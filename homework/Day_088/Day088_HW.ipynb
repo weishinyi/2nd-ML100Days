{
 "cells": [
  {
   "cell_type": "markdown",
   "metadata": {},
   "source": [
    "## Work\n",
    "1. 請嘗試寫一個 callback 用來記錄各類別在訓練過程中，對驗證集的 True Positive 與 True Negative"
   ]
  },
  {
   "cell_type": "code",
   "execution_count": 10,
   "metadata": {},
   "outputs": [],
   "source": [
    "import os\n",
    "import keras\n",
    "import numpy as np\n",
    "\n",
    "# Disable GPU\n",
    "os.environ[\"CUDA_VISIBLE_DEVICES\"] = \"0\""
   ]
  },
  {
   "cell_type": "code",
   "execution_count": 11,
   "metadata": {},
   "outputs": [],
   "source": [
    "train, test = keras.datasets.cifar10.load_data()"
   ]
  },
  {
   "cell_type": "code",
   "execution_count": 12,
   "metadata": {},
   "outputs": [],
   "source": [
    "## 資料前處理\n",
    "def preproc_x(x, flatten=True):\n",
    "    x = x / 255.\n",
    "    if flatten:\n",
    "        x = x.reshape((len(x), -1))\n",
    "    return x\n",
    "\n",
    "def preproc_y(y, num_classes=10):\n",
    "    if y.shape[-1] == 1:\n",
    "        y = keras.utils.to_categorical(y, num_classes)\n",
    "    return y    "
   ]
  },
  {
   "cell_type": "code",
   "execution_count": 13,
   "metadata": {},
   "outputs": [],
   "source": [
    "x_train, y_train = train\n",
    "x_test, y_test = test\n",
    "\n",
    "# Preproc the inputs\n",
    "x_train = preproc_x(x_train)\n",
    "x_test = preproc_x(x_test)\n",
    "\n",
    "# Preprc the outputs\n",
    "y_train = preproc_y(y_train)\n",
    "y_test = preproc_y(y_test)"
   ]
  },
  {
   "cell_type": "code",
   "execution_count": 14,
   "metadata": {},
   "outputs": [],
   "source": [
    "from keras.layers import BatchNormalization\n",
    "\n",
    "def build_mlp(input_shape, output_units=10, num_neurons=[512, 256, 128]):\n",
    "    input_layer = keras.layers.Input(input_shape)\n",
    "    \n",
    "    for i, n_units in enumerate(num_neurons):\n",
    "        if i == 0:\n",
    "            x = keras.layers.Dense(units=n_units, \n",
    "                                   activation=\"relu\", \n",
    "                                   name=\"hidden_layer\"+str(i+1))(input_layer)\n",
    "            x = BatchNormalization()(x)\n",
    "        else:\n",
    "            x = keras.layers.Dense(units=n_units, \n",
    "                                   activation=\"relu\", \n",
    "                                   name=\"hidden_layer\"+str(i+1))(x)\n",
    "            x = BatchNormalization()(x)\n",
    "    \n",
    "    out = keras.layers.Dense(units=output_units, activation=\"softmax\", name=\"output\")(x)\n",
    "    \n",
    "    model = keras.models.Model(inputs=[input_layer], outputs=[out])\n",
    "    return model"
   ]
  },
  {
   "cell_type": "code",
   "execution_count": 15,
   "metadata": {},
   "outputs": [],
   "source": [
    "## 超參數設定\n",
    "LEARNING_RATE = 1e-3\n",
    "EPOCHS = 25\n",
    "BATCH_SIZE = 1024\n",
    "MOMENTUM = 0.95"
   ]
  },
  {
   "cell_type": "code",
   "execution_count": 16,
   "metadata": {},
   "outputs": [],
   "source": [
    "# 載入 Callbacks\n",
    "from keras.callbacks import Callback\n",
    "\n",
    "# Record_fp_tp\n",
    "class Record_tp_tn(Callback):\n",
    "    \"\"\"Code Here\n",
    "    撰寫一個紀錄 ture positive 與 true negative 數量的 callbacks    \n",
    "    \"\"\"\n",
    "    def on_epoch_end(self, epoch, logs = {}, thres=0.5):\n",
    "        logs = logs or {}\n",
    "        \n",
    "        y_true = self.validation_data[1].argmax(axis = 1)\n",
    "        y_pred = self.model.predict(self.validation_data[0])\n",
    "        y_pred = (y_pred[:, 1] >= thres) * 1\n",
    "        true_positives = np.sum(np.logical_and(y_pred == 1, y_true == 1))\n",
    "        true_negatives = np.sum(np.logical_and(y_pred == 0, y_true == 0))\n",
    "\n",
    "        logs[\"true_positives\"] = true_positives\n",
    "        logs[\"true_negatives\"] = true_negatives\n",
    "        \n",
    "rec_tptn = Record_tp_tn()"
   ]
  },
  {
   "cell_type": "code",
   "execution_count": 17,
   "metadata": {
    "scrolled": true
   },
   "outputs": [
    {
     "name": "stdout",
     "output_type": "stream",
     "text": [
      "_________________________________________________________________\n",
      "Layer (type)                 Output Shape              Param #   \n",
      "=================================================================\n",
      "input_2 (InputLayer)         (None, 3072)              0         \n",
      "_________________________________________________________________\n",
      "hidden_layer1 (Dense)        (None, 512)               1573376   \n",
      "_________________________________________________________________\n",
      "batch_normalization_4 (Batch (None, 512)               2048      \n",
      "_________________________________________________________________\n",
      "hidden_layer2 (Dense)        (None, 256)               131328    \n",
      "_________________________________________________________________\n",
      "batch_normalization_5 (Batch (None, 256)               1024      \n",
      "_________________________________________________________________\n",
      "hidden_layer3 (Dense)        (None, 128)               32896     \n",
      "_________________________________________________________________\n",
      "batch_normalization_6 (Batch (None, 128)               512       \n",
      "_________________________________________________________________\n",
      "output (Dense)               (None, 10)                1290      \n",
      "=================================================================\n",
      "Total params: 1,742,474\n",
      "Trainable params: 1,740,682\n",
      "Non-trainable params: 1,792\n",
      "_________________________________________________________________\n",
      "Train on 50000 samples, validate on 10000 samples\n",
      "Epoch 1/25\n",
      "50000/50000 [==============================] - 3s 51us/step - loss: 2.2146 - acc: 0.2671 - val_loss: 2.1998 - val_acc: 0.3138\n",
      "Epoch 2/25\n",
      "50000/50000 [==============================] - 2s 38us/step - loss: 1.7447 - acc: 0.3915 - val_loss: 1.7970 - val_acc: 0.3790\n",
      "Epoch 3/25\n",
      "50000/50000 [==============================] - 2s 38us/step - loss: 1.6165 - acc: 0.4344 - val_loss: 1.7021 - val_acc: 0.4074\n",
      "Epoch 4/25\n",
      "50000/50000 [==============================] - 2s 39us/step - loss: 1.5449 - acc: 0.4607 - val_loss: 1.6314 - val_acc: 0.4194\n",
      "Epoch 5/25\n",
      "50000/50000 [==============================] - 2s 38us/step - loss: 1.4893 - acc: 0.4814 - val_loss: 1.5918 - val_acc: 0.4363\n",
      "Epoch 6/25\n",
      "50000/50000 [==============================] - 2s 38us/step - loss: 1.4416 - acc: 0.4973 - val_loss: 1.5644 - val_acc: 0.4493\n",
      "Epoch 7/25\n",
      "50000/50000 [==============================] - 2s 38us/step - loss: 1.4039 - acc: 0.5105 - val_loss: 1.5468 - val_acc: 0.4563\n",
      "Epoch 8/25\n",
      "50000/50000 [==============================] - 2s 38us/step - loss: 1.3701 - acc: 0.5226 - val_loss: 1.5308 - val_acc: 0.4579\n",
      "Epoch 9/25\n",
      "50000/50000 [==============================] - 2s 38us/step - loss: 1.3364 - acc: 0.5342 - val_loss: 1.5233 - val_acc: 0.4542\n",
      "Epoch 10/25\n",
      "50000/50000 [==============================] - 2s 38us/step - loss: 1.3050 - acc: 0.5465 - val_loss: 1.4970 - val_acc: 0.4687\n",
      "Epoch 11/25\n",
      "50000/50000 [==============================] - 2s 38us/step - loss: 1.2765 - acc: 0.5569 - val_loss: 1.4925 - val_acc: 0.4718\n",
      "Epoch 12/25\n",
      "50000/50000 [==============================] - 2s 38us/step - loss: 1.2499 - acc: 0.5670 - val_loss: 1.4857 - val_acc: 0.4763\n",
      "Epoch 13/25\n",
      "50000/50000 [==============================] - 2s 35us/step - loss: 1.2227 - acc: 0.5756 - val_loss: 1.4737 - val_acc: 0.4791\n",
      "Epoch 14/25\n",
      "50000/50000 [==============================] - 2s 39us/step - loss: 1.1967 - acc: 0.5868 - val_loss: 1.4722 - val_acc: 0.4830\n",
      "Epoch 15/25\n",
      "50000/50000 [==============================] - 2s 39us/step - loss: 1.1725 - acc: 0.5933 - val_loss: 1.4709 - val_acc: 0.4784\n",
      "Epoch 16/25\n",
      "50000/50000 [==============================] - 2s 39us/step - loss: 1.1482 - acc: 0.6043 - val_loss: 1.4711 - val_acc: 0.4784\n",
      "Epoch 17/25\n",
      "50000/50000 [==============================] - 2s 39us/step - loss: 1.1263 - acc: 0.6104 - val_loss: 1.4494 - val_acc: 0.4878\n",
      "Epoch 18/25\n",
      "50000/50000 [==============================] - 2s 38us/step - loss: 1.1031 - acc: 0.6217 - val_loss: 1.4532 - val_acc: 0.4824\n",
      "Epoch 19/25\n",
      "50000/50000 [==============================] - 2s 40us/step - loss: 1.0793 - acc: 0.6300 - val_loss: 1.4542 - val_acc: 0.4888\n",
      "Epoch 20/25\n",
      "50000/50000 [==============================] - 2s 39us/step - loss: 1.0573 - acc: 0.6368 - val_loss: 1.4655 - val_acc: 0.4850\n",
      "Epoch 21/25\n",
      "50000/50000 [==============================] - 2s 39us/step - loss: 1.0370 - acc: 0.6459 - val_loss: 1.4662 - val_acc: 0.4893\n",
      "Epoch 22/25\n",
      "50000/50000 [==============================] - 2s 39us/step - loss: 1.0143 - acc: 0.6551 - val_loss: 1.4509 - val_acc: 0.4895\n",
      "Epoch 23/25\n",
      "50000/50000 [==============================] - 2s 38us/step - loss: 0.9914 - acc: 0.6637 - val_loss: 1.4619 - val_acc: 0.4880\n",
      "Epoch 24/25\n",
      "50000/50000 [==============================] - 2s 39us/step - loss: 0.9725 - acc: 0.6710 - val_loss: 1.4712 - val_acc: 0.4895\n",
      "Epoch 25/25\n",
      "50000/50000 [==============================] - 2s 39us/step - loss: 0.9523 - acc: 0.6783 - val_loss: 1.4662 - val_acc: 0.4922\n"
     ]
    }
   ],
   "source": [
    "model = build_mlp(input_shape=x_train.shape[1:])\n",
    "model.summary()\n",
    "optimizer = keras.optimizers.SGD(lr=LEARNING_RATE, nesterov=True, momentum=MOMENTUM)\n",
    "model.compile(loss=\"categorical_crossentropy\", metrics=[\"accuracy\"], optimizer=optimizer)\n",
    "\n",
    "\"\"\"Code Here\n",
    "將 callbacks 放入模型訓練流程中\n",
    "\"\"\"\n",
    "model.fit(x_train, y_train, \n",
    "          epochs=EPOCHS, \n",
    "          batch_size=BATCH_SIZE, \n",
    "          validation_data=(x_test, y_test), \n",
    "          shuffle=True,\n",
    "          callbacks=[rec_tptn]\n",
    "         )\n",
    "\n",
    "# Collect results\n",
    "train_loss = model.history.history[\"loss\"]\n",
    "valid_loss = model.history.history[\"val_loss\"]\n",
    "train_acc = model.history.history[\"acc\"]\n",
    "valid_acc = model.history.history[\"val_acc\"]\n",
    "\n",
    "\"\"\"Code Here\n",
    "將 tp/tn 從訓練完的模型中取出\n",
    "\"\"\"\n",
    "valid_tp = model.history.history['true_positives']\n",
    "valid_tn = model.history.history['true_negatives']"
   ]
  },
  {
   "cell_type": "code",
   "execution_count": 18,
   "metadata": {},
   "outputs": [
    {
     "data": {
      "image/png": "[encoded data removed]",
      "text/plain": [
       "<Figure size 432x288 with 1 Axes>"
      ]
     },
     "metadata": {},
     "output_type": "display_data"
    },
    {
     "data": {
      "image/png": "[encoded data removed]",
      "text/plain": [
       "<Figure size 432x288 with 1 Axes>"
      ]
     },
     "metadata": {},
     "output_type": "display_data"
    },
    {
     "data": {
      "image/png": "[encoded data removed]",
      "text/plain": [
       "<Figure size 432x288 with 1 Axes>"
      ]
     },
     "metadata": {},
     "output_type": "display_data"
    }
   ],
   "source": [
    "import matplotlib.pyplot as plt\n",
    "%matplotlib inline\n",
    "\n",
    "plt.plot(range(len(train_loss)), train_loss, label=\"train loss\")\n",
    "plt.plot(range(len(valid_loss)), valid_loss, label=\"valid loss\")\n",
    "plt.legend()\n",
    "plt.title(\"Loss\")\n",
    "plt.show()\n",
    "\n",
    "plt.plot(range(len(train_acc)), train_acc, label=\"train accuracy\")\n",
    "plt.plot(range(len(valid_acc)), valid_acc, label=\"valid accuracy\")\n",
    "plt.legend()\n",
    "plt.title(\"Accuracy\")\n",
    "plt.show()\n",
    "\n",
    "plt.plot(range(len(valid_tp)), valid_tp, label=\"valid tp\", color=\"navy\")\n",
    "plt.plot(range(len(valid_tn)), valid_tn, label=\"valid tn\", color=\"red\")\n",
    "plt.legend()\n",
    "plt.title(\"True positives and True Negatives\")\n",
    "plt.show()\n"
   ]
  },
  {
   "cell_type": "code",
   "execution_count": null,
   "metadata": {},
   "outputs": [],
   "source": []
  }
 ],
 "metadata": {
  "kernelspec": {
   "display_name": "Python 3",
   "language": "python",
   "name": "python3"
  },
  "language_info": {
   "codemirror_mode": {
    "name": "ipython",
    "version": 3
   },
   "file_extension": ".py",
   "mimetype": "text/x-python",
   "name": "python",
   "nbconvert_exporter": "python",
   "pygments_lexer": "ipython3",
   "version": "3.5.5"
  }
 },
 "nbformat": 4,
 "nbformat_minor": 2
}
