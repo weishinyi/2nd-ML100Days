{
 "cells": [
  {
   "cell_type": "markdown",
   "metadata": {},
   "source": [
    "# Day 001 homework"
   ]
  },
  {
   "cell_type": "markdown",
   "metadata": {},
   "source": [
    "[作業1]\n",
    "\n",
    "請上 Kaggle, 在 Competitions 或 Dataset 中找一組競賽或資料並寫下：\n",
    "\n",
    "DataSet: Stanford Dogs Dataset  \n",
    "-src:   \n",
    "https://www.kaggle.com/jessicali9530/stanford-dogs-dataset  \n",
    "http://vision.stanford.edu/aditya86/ImageNetDogs/  \n",
    "-des:   \n",
    "Over 20,000 images of 120 dog breeds\n",
    "\n",
    "1. 你選的這組資料為何重要  \n",
    "   此資料集收集了20,580張圖片，包含120種犬種，對於做狗狗種類分析很有幫助。\n",
    "\n",
    "2. 資料從何而來 (tips: 譬如提供者是誰、以什麼方式蒐集)  \n",
    "   提供者為史丹佛大學(Stanford University)，該數據集是使用ImageNet中的圖像和註釋構建的。\n",
    "\n",
    "3. 蒐集而來的資料型態為何  \n",
    "   Images: jpg圖片檔  \n",
    "   Annotations: xml格式檔案, 標註圖片的Class labels與Bounding boxes。\n",
    "\n",
    "4. 這組資料想解決的問題如何評估  \n",
    "   想解決犬種分類問題, 辨識出狗狗的品種"
   ]
  },
  {
   "cell_type": "markdown",
   "metadata": {},
   "source": [
    "[作業2]\n",
    "\n",
    "想像你經營一個自由載客車隊，你希望能透過數據分析以提升業績，請你思考並描述你如何規劃整體的分析/解決方案：\n",
    "\n",
    "1. 核心問題為何 (tips：如何定義 「提升業績 & 你的假設」)  \n",
    "\n",
    "- 提升業績: \n",
    "增加收入, 減少成本  \n",
    "減少在路上尋找客人的時間減少成本(降低空車率)  \n",
    "增加一天載客量可增加收入(量多)  \n",
    "挑選長程客戶(錢多)\n",
    "\n",
    "- 假設  \n",
    "a 假設一天中有些時段較多客人有些時段沒什麼客人(載客高峰期/平峰期/低峰期)   \n",
    "b 假設有某些時段/地區會有較多有乘車需求的人 (半夜的車站/清晨的夜店前之類的)\n",
    "c 假設某些時段/地區較容易出現長程客戶 (機場/車站)\n",
    "d 假設某些天氣/氣溫容易有較多有乘車需求的人 (下雨天比較會有客人/ 天氣冷比較會有客人)\n",
    "\n",
    "\n",
    "2. 資料從何而來 (tips：哪些資料可能會對你想問的問題產生影響 & 資料如何蒐集)    \n",
    "第一手資料:  \n",
    "a 載客紀錄, 如: 乘客上下車地點地區 時間/ 叫車方式 (ex: APP訂車/路邊招車/電話訂車)   \n",
    "第二手資料:  \n",
    "a 地理資訊資料, 如: 車站/商業區/住宅區/大眾運輸路線資料  \n",
    "b 天氣資訊, 如: 晴天/陰天/雨天/ 冷/ 熱\n",
    "\n",
    "3. 蒐集而來的資料型態為何  \n",
    "載客紀錄\n",
    "上車地點 text  \n",
    "下車地點 text\n",
    "上車區域 int (代號)\n",
    "時間     datetime  \n",
    "叫車方式 int (代號)\n",
    "氣候資訊 int (代號)\n",
    "氣溫資訊 float \n",
    "\n",
    "4. 你要回答的問題，其如何評估 (tips：你的假設如何驗證)  \n",
    "a 觀察載客紀錄, 是否有高峰/低峰期\n",
    "b 觀察載客紀錄與地理資訊資料, 是否有某些地點較易出現乘客 \n",
    "c 觀察載客紀錄與地理資訊資料, 是否有某些地點較易出現長程客戶\n",
    "d 觀察載客紀錄與天氣資訊, 氣候是否影響載客率"
   ]
  },
  {
   "cell_type": "markdown",
   "metadata": {},
   "source": [
    "## 練習時間\n",
    "#### 請寫一個函式用來計算 Mean Square Error\n",
    "$ MSE = \\frac{1}{n}\\sum_{i=1}^{n}{(Y_i - \\hat{Y}_i)^2} $\n",
    "\n",
    "### Hint: [如何取平方](https://googoodesign.gitbooks.io/-ezpython/unit-1.html)"
   ]
  },
  {
   "cell_type": "code",
   "execution_count": 2,
   "metadata": {},
   "outputs": [],
   "source": [
    "import numpy as np\n",
    "import matplotlib.pyplot as plt"
   ]
  },
  {
   "cell_type": "code",
   "execution_count": 80,
   "metadata": {},
   "outputs": [],
   "source": [
    "def mean_squared_error(y, yp):\n",
    "    \"\"\"\n",
    "    請完成這個 Function 後往下執行\n",
    "    計算 MSE\n",
    "    Args:\n",
    "        - y: 實際值\n",
    "        - yp: 預測值\n",
    "    Return:\n",
    "        - mse: MSE\n",
    "    \"\"\"\n",
    "    mse = sum( (y - yp)**2 ) / len(y)\n",
    "    return mse\n",
    "    \n",
    "def mean_absolute_error(y, yp):\n",
    "    \"\"\"\n",
    "    計算 MAE\n",
    "    Args:\n",
    "        - y: 實際值\n",
    "        - yp: 預測值\n",
    "    Return:\n",
    "        - mae: MAE\n",
    "    \"\"\"\n",
    "    mae = MAE = sum(abs(y - yp)) / len(y)\n",
    "    return mae"
   ]
  },
  {
   "cell_type": "code",
   "execution_count": 81,
   "metadata": {},
   "outputs": [
    {
     "data": {
      "image/png": "[encoded data removed]",
      "text/plain": [
       "<matplotlib.figure.Figure at 0x1b82c505be0>"
      ]
     },
     "metadata": {},
     "output_type": "display_data"
    }
   ],
   "source": [
    "w = 3\n",
    "b = 0.5\n",
    "\n",
    "x_lin = np.linspace(0, 100, 101)\n",
    "\n",
    "y = (x_lin + np.random.randn(101) * 5) * w + b\n",
    "\n",
    "plt.plot(x_lin, y, 'b.', label = 'data points')\n",
    "plt.title(\"Assume we have data points\")\n",
    "plt.legend(loc = 2)\n",
    "plt.show()"
   ]
  },
  {
   "cell_type": "code",
   "execution_count": 82,
   "metadata": {},
   "outputs": [
    {
     "data": {
      "image/png": "[encoded data removed]",
      "text/plain": [
       "<matplotlib.figure.Figure at 0x1b82c59d208>"
      ]
     },
     "metadata": {},
     "output_type": "display_data"
    }
   ],
   "source": [
    "y_hat = x_lin * w + b\n",
    "plt.plot(x_lin, y, 'b.', label = 'data')\n",
    "plt.plot(x_lin, y_hat, 'r-', label = 'prediction')\n",
    "plt.title(\"Assume we have data points (And the prediction)\")\n",
    "plt.legend(loc = 2)\n",
    "plt.show()"
   ]
  },
  {
   "cell_type": "code",
   "execution_count": 83,
   "metadata": {},
   "outputs": [
    {
     "name": "stdout",
     "output_type": "stream",
     "text": [
      "The Mean squared error is 264.432\n",
      "The Mean absolute error is 13.223\n"
     ]
    }
   ],
   "source": [
    "# 執行 Function, 確認有沒有正常執行\n",
    "MSE = mean_squared_error(y, y_hat)\n",
    "MAE = mean_absolute_error(y, y_hat)\n",
    "print(\"The Mean squared error is %.3f\" % (MSE))\n",
    "print(\"The Mean absolute error is %.3f\" % (MAE))"
   ]
  },
  {
   "cell_type": "code",
   "execution_count": null,
   "metadata": {},
   "outputs": [],
   "source": []
  },
  {
   "cell_type": "code",
   "execution_count": null,
   "metadata": {},
   "outputs": [],
   "source": []
  }
 ],
 "metadata": {
  "anaconda-cloud": {},
  "kernelspec": {
   "display_name": "Python 3",
   "language": "python",
   "name": "python3"
  },
  "language_info": {
   "codemirror_mode": {
    "name": "ipython",
    "version": 3
   },
   "file_extension": ".py",
   "mimetype": "text/x-python",
   "name": "python",
   "nbconvert_exporter": "python",
   "pygments_lexer": "ipython3",
   "version": "3.6.4"
  }
 },
 "nbformat": 4,
 "nbformat_minor": 1
}
