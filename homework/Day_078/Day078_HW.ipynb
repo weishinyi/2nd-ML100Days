{
 "cells": [
  {
   "cell_type": "markdown",
   "metadata": {},
   "source": [
    "## Work\n",
    "1. 請嘗試將 preproc_x 替換成以每筆資料的 min/max 進行標準化至 -1 ~ 1 間，再進行訓練\n",
    "2. 請嘗試將 mlp 疊更深 (e.g 5~10 層)，進行訓練後觀察 learning curve 的走勢\n",
    "3. (optional) 請改用 GPU 進行訓練 (如果你有 GPU 的話)，比較使用 CPU 與 GPU 的訓練速度"
   ]
  },
  {
   "cell_type": "code",
   "execution_count": 10,
   "metadata": {},
   "outputs": [
    {
     "data": {
      "text/plain": [
       "'\\nYour code here (optional)\\n確認硬體資源\\n'"
      ]
     },
     "execution_count": 10,
     "metadata": {},
     "output_type": "execute_result"
    }
   ],
   "source": [
    "## \n",
    "\"\"\"\n",
    "Your code here (optional)\n",
    "確認硬體資源\n",
    "\"\"\"\n",
    "#!nvidia-smi"
   ]
  },
  {
   "cell_type": "code",
   "execution_count": 11,
   "metadata": {},
   "outputs": [],
   "source": [
    "import os\n",
    "import keras\n",
    "\n",
    "# 請嘗試設定 GPU：os.environ\n",
    "os.environ[\"CUDA_VISIBLE_DEVICES\"] = \"0\""
   ]
  },
  {
   "cell_type": "code",
   "execution_count": 12,
   "metadata": {},
   "outputs": [],
   "source": [
    "train, test = keras.datasets.cifar10.load_data()"
   ]
  },
  {
   "cell_type": "code",
   "execution_count": 13,
   "metadata": {},
   "outputs": [],
   "source": [
    "## 資料前處理\n",
    "\"\"\"\n",
    "Your code here\n",
    "\"\"\"\n",
    "def preproc_x(x, flatten=True):\n",
    "    x = 2*(((x - x.min()) / (x.max() - x.min()))-0.5)\n",
    "    if flatten:\n",
    "        x = x.reshape((len(x), -1))\n",
    "    return x\n",
    "\n",
    "def preproc_y(y, num_classes=10):\n",
    "    if y.shape[-1] == 1:\n",
    "        y = keras.utils.to_categorical(y, num_classes)\n",
    "    return y    "
   ]
  },
  {
   "cell_type": "code",
   "execution_count": 14,
   "metadata": {},
   "outputs": [],
   "source": [
    "x_train, y_train = train\n",
    "x_test, y_test = test\n",
    "\n",
    "# Preproc the inputs\n",
    "x_train = preproc_x(x_train)\n",
    "x_test = preproc_x(x_test)\n",
    "\n",
    "# Preprc the outputs\n",
    "y_train = preproc_y(y_train)\n",
    "y_test = preproc_y(y_test)"
   ]
  },
  {
   "cell_type": "code",
   "execution_count": 15,
   "metadata": {},
   "outputs": [
    {
     "name": "stdout",
     "output_type": "stream",
     "text": [
      "_________________________________________________________________\n",
      "Layer (type)                 Output Shape              Param #   \n",
      "=================================================================\n",
      "input_2 (InputLayer)         (None, 3072)              0         \n",
      "_________________________________________________________________\n",
      "hidden_layer1 (Dense)        (None, 512)               1573376   \n",
      "_________________________________________________________________\n",
      "hidden_layer2 (Dense)        (None, 256)               131328    \n",
      "_________________________________________________________________\n",
      "hidden_layer3 (Dense)        (None, 128)               32896     \n",
      "_________________________________________________________________\n",
      "hidden_layer4 (Dense)        (None, 64)                8256      \n",
      "_________________________________________________________________\n",
      "hidden_layer5 (Dense)        (None, 32)                2080      \n",
      "_________________________________________________________________\n",
      "output (Dense)               (None, 10)                330       \n",
      "=================================================================\n",
      "Total params: 1,748,266\n",
      "Trainable params: 1,748,266\n",
      "Non-trainable params: 0\n",
      "_________________________________________________________________\n"
     ]
    }
   ],
   "source": [
    "\"\"\"Code Here\n",
    "建立你的神經網路\n",
    "\"\"\"\n",
    "def build_mlp(input_shape, output_units=10, num_neurons=[512, 256, 128, 64, 32]):\n",
    "    #input layer\n",
    "    input_layer = keras.layers.Input(input_shape)\n",
    "    \n",
    "    #hidden layer\n",
    "    for i, n_units in enumerate(num_neurons):\n",
    "        if i == 0:\n",
    "            x = keras.layers.Dense(units=n_units, activation=\"relu\", name=\"hidden_layer\"+str(i+1))(input_layer)\n",
    "        else:\n",
    "            x = keras.layers.Dense(units=n_units, activation=\"relu\", name=\"hidden_layer\"+str(i+1))(x)\n",
    "    \n",
    "    #output layer\n",
    "    out = keras.layers.Dense(units=output_units, activation=\"softmax\", name=\"output\")(x)\n",
    "    \n",
    "    model = keras.models.Model(inputs=[input_layer], outputs=[out])\n",
    "    return model\n",
    "    \n",
    "#build model    \n",
    "model = build_mlp(input_shape=x_train.shape[1:])\n",
    "model.summary()"
   ]
  },
  {
   "cell_type": "code",
   "execution_count": 16,
   "metadata": {},
   "outputs": [],
   "source": [
    "## 超參數設定\n",
    "LEARNING_RATE = 0.001\n",
    "EPOCHS = 100\n",
    "BATCH_SIZE = 256"
   ]
  },
  {
   "cell_type": "code",
   "execution_count": 17,
   "metadata": {},
   "outputs": [],
   "source": [
    "optimizer = keras.optimizers.Adam(lr=LEARNING_RATE)\n",
    "model.compile(loss=\"categorical_crossentropy\", metrics=[\"accuracy\"], optimizer=optimizer)"
   ]
  },
  {
   "cell_type": "code",
   "execution_count": 18,
   "metadata": {},
   "outputs": [
    {
     "name": "stdout",
     "output_type": "stream",
     "text": [
      "WARNING:tensorflow:From C:\\Users\\Colt\\Anaconda3\\lib\\site-packages\\tensorflow\\python\\ops\\math_ops.py:3066: to_int32 (from tensorflow.python.ops.math_ops) is deprecated and will be removed in a future version.\n",
      "Instructions for updating:\n",
      "Use tf.cast instead.\n",
      "Train on 50000 samples, validate on 10000 samples\n",
      "Epoch 1/100\n",
      "50000/50000 [==============================] - 6s 121us/step - loss: 1.7557 - acc: 0.3778 - val_loss: 1.5969 - val_acc: 0.4231\n",
      "Epoch 2/100\n",
      "50000/50000 [==============================] - 4s 71us/step - loss: 1.5015 - acc: 0.4732 - val_loss: 1.4884 - val_acc: 0.4745\n",
      "Epoch 3/100\n",
      "50000/50000 [==============================] - 4s 70us/step - loss: 1.3812 - acc: 0.5123 - val_loss: 1.4316 - val_acc: 0.4881\n",
      "Epoch 4/100\n",
      "50000/50000 [==============================] - 4s 71us/step - loss: 1.2889 - acc: 0.5462 - val_loss: 1.3852 - val_acc: 0.5187\n",
      "Epoch 5/100\n",
      "50000/50000 [==============================] - 4s 73us/step - loss: 1.2000 - acc: 0.5762 - val_loss: 1.4053 - val_acc: 0.5172\n",
      "Epoch 6/100\n",
      "50000/50000 [==============================] - 4s 71us/step - loss: 1.1247 - acc: 0.6038 - val_loss: 1.3838 - val_acc: 0.5214\n",
      "Epoch 7/100\n",
      "50000/50000 [==============================] - 4s 71us/step - loss: 1.0521 - acc: 0.6291 - val_loss: 1.3727 - val_acc: 0.5261\n",
      "Epoch 8/100\n",
      "50000/50000 [==============================] - 4s 71us/step - loss: 0.9781 - acc: 0.6533 - val_loss: 1.3971 - val_acc: 0.5333\n",
      "Epoch 9/100\n",
      "50000/50000 [==============================] - 4s 72us/step - loss: 0.9121 - acc: 0.6768 - val_loss: 1.4316 - val_acc: 0.5297\n",
      "Epoch 10/100\n",
      "50000/50000 [==============================] - 4s 73us/step - loss: 0.8366 - acc: 0.7033 - val_loss: 1.5311 - val_acc: 0.5261\n",
      "Epoch 11/100\n",
      "50000/50000 [==============================] - 4s 71us/step - loss: 0.7789 - acc: 0.7230 - val_loss: 1.5139 - val_acc: 0.5350\n",
      "Epoch 12/100\n",
      "50000/50000 [==============================] - 4s 71us/step - loss: 0.7184 - acc: 0.7450 - val_loss: 1.5763 - val_acc: 0.5359\n",
      "Epoch 13/100\n",
      "50000/50000 [==============================] - 4s 71us/step - loss: 0.6595 - acc: 0.7645 - val_loss: 1.5852 - val_acc: 0.5403\n",
      "Epoch 14/100\n",
      "50000/50000 [==============================] - 4s 71us/step - loss: 0.6009 - acc: 0.7895 - val_loss: 1.6699 - val_acc: 0.5342\n",
      "Epoch 15/100\n",
      "50000/50000 [==============================] - 4s 71us/step - loss: 0.5637 - acc: 0.8002 - val_loss: 1.6889 - val_acc: 0.5361\n",
      "Epoch 16/100\n",
      "50000/50000 [==============================] - 4s 71us/step - loss: 0.5016 - acc: 0.8209 - val_loss: 1.8366 - val_acc: 0.5313\n",
      "Epoch 17/100\n",
      "50000/50000 [==============================] - 4s 71us/step - loss: 0.4773 - acc: 0.8308 - val_loss: 1.9055 - val_acc: 0.5286\n",
      "Epoch 18/100\n",
      "50000/50000 [==============================] - 4s 71us/step - loss: 0.4349 - acc: 0.8464 - val_loss: 1.9482 - val_acc: 0.5330\n",
      "Epoch 19/100\n",
      "50000/50000 [==============================] - 4s 71us/step - loss: 0.3842 - acc: 0.8638 - val_loss: 2.0329 - val_acc: 0.5313\n",
      "Epoch 20/100\n",
      "50000/50000 [==============================] - 4s 71us/step - loss: 0.3609 - acc: 0.8726 - val_loss: 2.2008 - val_acc: 0.5325\n",
      "Epoch 21/100\n",
      "50000/50000 [==============================] - 4s 72us/step - loss: 0.3531 - acc: 0.8753 - val_loss: 2.2558 - val_acc: 0.5306\n",
      "Epoch 22/100\n",
      "50000/50000 [==============================] - 4s 71us/step - loss: 0.3249 - acc: 0.8864 - val_loss: 2.2689 - val_acc: 0.5279\n",
      "Epoch 23/100\n",
      "50000/50000 [==============================] - 4s 71us/step - loss: 0.2974 - acc: 0.8959 - val_loss: 2.3936 - val_acc: 0.5272\n",
      "Epoch 24/100\n",
      "50000/50000 [==============================] - 4s 71us/step - loss: 0.2729 - acc: 0.9045 - val_loss: 2.4276 - val_acc: 0.5354\n",
      "Epoch 25/100\n",
      "50000/50000 [==============================] - 4s 71us/step - loss: 0.2389 - acc: 0.9179 - val_loss: 2.6015 - val_acc: 0.5298\n",
      "Epoch 26/100\n",
      "50000/50000 [==============================] - 4s 71us/step - loss: 0.2492 - acc: 0.9131 - val_loss: 2.5686 - val_acc: 0.5311\n",
      "Epoch 27/100\n",
      "50000/50000 [==============================] - 4s 71us/step - loss: 0.2405 - acc: 0.9164 - val_loss: 2.7604 - val_acc: 0.5231\n",
      "Epoch 28/100\n",
      "50000/50000 [==============================] - 4s 73us/step - loss: 0.2156 - acc: 0.9258 - val_loss: 2.7484 - val_acc: 0.5390\n",
      "Epoch 29/100\n",
      "50000/50000 [==============================] - 4s 74us/step - loss: 0.1973 - acc: 0.9323 - val_loss: 2.7516 - val_acc: 0.5291\n",
      "Epoch 30/100\n",
      "50000/50000 [==============================] - 4s 71us/step - loss: 0.2005 - acc: 0.9301 - val_loss: 2.8852 - val_acc: 0.5345\n",
      "Epoch 31/100\n",
      "50000/50000 [==============================] - 4s 72us/step - loss: 0.2023 - acc: 0.9294 - val_loss: 2.8863 - val_acc: 0.5371\n",
      "Epoch 32/100\n",
      "50000/50000 [==============================] - 4s 77us/step - loss: 0.1877 - acc: 0.9356 - val_loss: 2.9501 - val_acc: 0.5284\n",
      "Epoch 33/100\n",
      "50000/50000 [==============================] - 4s 74us/step - loss: 0.2013 - acc: 0.9302 - val_loss: 2.9539 - val_acc: 0.5351\n",
      "Epoch 34/100\n",
      "50000/50000 [==============================] - 4s 72us/step - loss: 0.1696 - acc: 0.9425 - val_loss: 2.9793 - val_acc: 0.5336\n",
      "Epoch 35/100\n",
      "50000/50000 [==============================] - 4s 72us/step - loss: 0.1644 - acc: 0.9424 - val_loss: 3.0335 - val_acc: 0.5269\n",
      "Epoch 36/100\n",
      "50000/50000 [==============================] - 4s 71us/step - loss: 0.1636 - acc: 0.9442 - val_loss: 3.0806 - val_acc: 0.5304\n",
      "Epoch 37/100\n",
      "50000/50000 [==============================] - 4s 71us/step - loss: 0.1611 - acc: 0.9453 - val_loss: 3.1616 - val_acc: 0.5316\n",
      "Epoch 38/100\n",
      "50000/50000 [==============================] - 4s 74us/step - loss: 0.1571 - acc: 0.9462 - val_loss: 3.0766 - val_acc: 0.5314\n",
      "Epoch 39/100\n",
      "50000/50000 [==============================] - 4s 71us/step - loss: 0.1221 - acc: 0.9585 - val_loss: 3.3114 - val_acc: 0.5294\n",
      "Epoch 40/100\n",
      "50000/50000 [==============================] - 4s 71us/step - loss: 0.1541 - acc: 0.9474 - val_loss: 3.2695 - val_acc: 0.5283\n",
      "Epoch 41/100\n",
      "50000/50000 [==============================] - 4s 71us/step - loss: 0.1365 - acc: 0.9539 - val_loss: 3.2923 - val_acc: 0.5228\n",
      "Epoch 42/100\n",
      "50000/50000 [==============================] - 4s 71us/step - loss: 0.1457 - acc: 0.9503 - val_loss: 3.2962 - val_acc: 0.5288\n",
      "Epoch 43/100\n",
      "50000/50000 [==============================] - 4s 72us/step - loss: 0.1222 - acc: 0.9587 - val_loss: 3.4239 - val_acc: 0.5307\n",
      "Epoch 44/100\n",
      "50000/50000 [==============================] - 4s 73us/step - loss: 0.1277 - acc: 0.9567 - val_loss: 3.4917 - val_acc: 0.5317\n",
      "Epoch 45/100\n",
      "50000/50000 [==============================] - 4s 72us/step - loss: 0.1242 - acc: 0.9574 - val_loss: 3.4073 - val_acc: 0.5252\n",
      "Epoch 46/100\n",
      "50000/50000 [==============================] - 4s 74us/step - loss: 0.1318 - acc: 0.9550 - val_loss: 3.4170 - val_acc: 0.5300\n",
      "Epoch 47/100\n",
      "50000/50000 [==============================] - 4s 73us/step - loss: 0.1188 - acc: 0.9605 - val_loss: 3.5560 - val_acc: 0.5296\n",
      "Epoch 48/100\n",
      "50000/50000 [==============================] - 4s 72us/step - loss: 0.1210 - acc: 0.9598 - val_loss: 3.4925 - val_acc: 0.5309\n",
      "Epoch 49/100\n",
      "50000/50000 [==============================] - 4s 72us/step - loss: 0.1278 - acc: 0.9583 - val_loss: 3.4214 - val_acc: 0.5253\n",
      "Epoch 50/100\n",
      "50000/50000 [==============================] - 4s 71us/step - loss: 0.1135 - acc: 0.9627 - val_loss: 3.5689 - val_acc: 0.5279\n",
      "Epoch 51/100\n",
      "50000/50000 [==============================] - 4s 72us/step - loss: 0.1251 - acc: 0.9582 - val_loss: 3.3884 - val_acc: 0.5314\n",
      "Epoch 52/100\n",
      "50000/50000 [==============================] - 4s 72us/step - loss: 0.1048 - acc: 0.9650 - val_loss: 3.4428 - val_acc: 0.5316\n",
      "Epoch 53/100\n",
      "50000/50000 [==============================] - 4s 72us/step - loss: 0.1121 - acc: 0.9617 - val_loss: 3.5061 - val_acc: 0.5291\n",
      "Epoch 54/100\n",
      "50000/50000 [==============================] - 4s 72us/step - loss: 0.0959 - acc: 0.9681 - val_loss: 3.5827 - val_acc: 0.5290\n",
      "Epoch 55/100\n",
      "50000/50000 [==============================] - 4s 72us/step - loss: 0.0949 - acc: 0.9685 - val_loss: 3.6735 - val_acc: 0.5343\n",
      "Epoch 56/100\n",
      "50000/50000 [==============================] - 4s 72us/step - loss: 0.1066 - acc: 0.9654 - val_loss: 3.5748 - val_acc: 0.5356\n",
      "Epoch 57/100\n",
      "50000/50000 [==============================] - 4s 72us/step - loss: 0.1082 - acc: 0.9648 - val_loss: 3.7017 - val_acc: 0.5226\n"
     ]
    },
    {
     "name": "stdout",
     "output_type": "stream",
     "text": [
      "Epoch 58/100\n",
      "50000/50000 [==============================] - 3s 70us/step - loss: 0.1030 - acc: 0.9664 - val_loss: 3.5975 - val_acc: 0.5322\n",
      "Epoch 59/100\n",
      "50000/50000 [==============================] - 3s 70us/step - loss: 0.1064 - acc: 0.9645 - val_loss: 3.5628 - val_acc: 0.5312\n",
      "Epoch 60/100\n",
      "50000/50000 [==============================] - 4s 70us/step - loss: 0.0975 - acc: 0.9678 - val_loss: 3.6249 - val_acc: 0.5285\n",
      "Epoch 61/100\n",
      "50000/50000 [==============================] - 3s 70us/step - loss: 0.1082 - acc: 0.9638 - val_loss: 3.5561 - val_acc: 0.5314\n",
      "Epoch 62/100\n",
      "50000/50000 [==============================] - 4s 70us/step - loss: 0.0893 - acc: 0.9709 - val_loss: 3.6799 - val_acc: 0.5247\n",
      "Epoch 63/100\n",
      "50000/50000 [==============================] - 3s 70us/step - loss: 0.1078 - acc: 0.9644 - val_loss: 3.6076 - val_acc: 0.5308\n",
      "Epoch 64/100\n",
      "50000/50000 [==============================] - 4s 71us/step - loss: 0.0985 - acc: 0.9677 - val_loss: 3.6731 - val_acc: 0.5346\n",
      "Epoch 65/100\n",
      "50000/50000 [==============================] - 4s 72us/step - loss: 0.0921 - acc: 0.9704 - val_loss: 3.5622 - val_acc: 0.5261\n",
      "Epoch 66/100\n",
      "50000/50000 [==============================] - 4s 70us/step - loss: 0.0826 - acc: 0.9726 - val_loss: 3.6722 - val_acc: 0.5333\n",
      "Epoch 67/100\n",
      "50000/50000 [==============================] - 4s 70us/step - loss: 0.0942 - acc: 0.9690 - val_loss: 3.7025 - val_acc: 0.5284\n",
      "Epoch 68/100\n",
      "50000/50000 [==============================] - 3s 70us/step - loss: 0.0881 - acc: 0.9705 - val_loss: 3.6219 - val_acc: 0.5311\n",
      "Epoch 69/100\n",
      "50000/50000 [==============================] - 4s 71us/step - loss: 0.0865 - acc: 0.9716 - val_loss: 3.7488 - val_acc: 0.5322\n",
      "Epoch 70/100\n",
      "50000/50000 [==============================] - 4s 70us/step - loss: 0.0767 - acc: 0.9747 - val_loss: 3.7336 - val_acc: 0.5367\n",
      "Epoch 71/100\n",
      "50000/50000 [==============================] - 4s 70us/step - loss: 0.0759 - acc: 0.9748 - val_loss: 3.7409 - val_acc: 0.5326\n",
      "Epoch 72/100\n",
      "50000/50000 [==============================] - 4s 71us/step - loss: 0.1003 - acc: 0.9669 - val_loss: 3.7205 - val_acc: 0.5376\n",
      "Epoch 73/100\n",
      "50000/50000 [==============================] - 4s 71us/step - loss: 0.0790 - acc: 0.9750 - val_loss: 3.7834 - val_acc: 0.5324\n",
      "Epoch 74/100\n",
      "50000/50000 [==============================] - 4s 70us/step - loss: 0.0899 - acc: 0.9715 - val_loss: 3.7787 - val_acc: 0.5404\n",
      "Epoch 75/100\n",
      "50000/50000 [==============================] - 3s 70us/step - loss: 0.0782 - acc: 0.9751 - val_loss: 3.6978 - val_acc: 0.5321\n",
      "Epoch 76/100\n",
      "50000/50000 [==============================] - 3s 70us/step - loss: 0.0798 - acc: 0.9738 - val_loss: 3.7433 - val_acc: 0.5327\n",
      "Epoch 77/100\n",
      "50000/50000 [==============================] - 4s 72us/step - loss: 0.0702 - acc: 0.9767 - val_loss: 3.8344 - val_acc: 0.5258\n",
      "Epoch 78/100\n",
      "50000/50000 [==============================] - 4s 71us/step - loss: 0.0643 - acc: 0.9784 - val_loss: 3.9016 - val_acc: 0.5303\n",
      "Epoch 79/100\n",
      "50000/50000 [==============================] - 3s 70us/step - loss: 0.0946 - acc: 0.9702 - val_loss: 3.7254 - val_acc: 0.5248\n",
      "Epoch 80/100\n",
      "50000/50000 [==============================] - 3s 70us/step - loss: 0.0749 - acc: 0.9763 - val_loss: 3.8617 - val_acc: 0.5315\n",
      "Epoch 81/100\n",
      "50000/50000 [==============================] - 4s 70us/step - loss: 0.0652 - acc: 0.9788 - val_loss: 3.8367 - val_acc: 0.5376\n",
      "Epoch 82/100\n",
      "50000/50000 [==============================] - 3s 70us/step - loss: 0.0766 - acc: 0.9753 - val_loss: 3.8178 - val_acc: 0.5408\n",
      "Epoch 83/100\n",
      "50000/50000 [==============================] - 4s 71us/step - loss: 0.0929 - acc: 0.9704 - val_loss: 3.8029 - val_acc: 0.5309\n",
      "Epoch 84/100\n",
      "50000/50000 [==============================] - 4s 71us/step - loss: 0.0764 - acc: 0.9750 - val_loss: 3.7659 - val_acc: 0.5324\n",
      "Epoch 85/100\n",
      "50000/50000 [==============================] - 3s 70us/step - loss: 0.0710 - acc: 0.9766 - val_loss: 3.8703 - val_acc: 0.5349\n",
      "Epoch 86/100\n",
      "50000/50000 [==============================] - 4s 70us/step - loss: 0.0729 - acc: 0.9764 - val_loss: 3.8499 - val_acc: 0.5290\n",
      "Epoch 87/100\n",
      "50000/50000 [==============================] - 4s 71us/step - loss: 0.0745 - acc: 0.9768 - val_loss: 3.9203 - val_acc: 0.5352\n",
      "Epoch 88/100\n",
      "50000/50000 [==============================] - 4s 70us/step - loss: 0.0684 - acc: 0.9774 - val_loss: 3.8612 - val_acc: 0.5346\n",
      "Epoch 89/100\n",
      "50000/50000 [==============================] - 4s 71us/step - loss: 0.0520 - acc: 0.9830 - val_loss: 3.9840 - val_acc: 0.5342\n",
      "Epoch 90/100\n",
      "50000/50000 [==============================] - 4s 70us/step - loss: 0.0686 - acc: 0.9778 - val_loss: 3.9419 - val_acc: 0.5298\n",
      "Epoch 91/100\n",
      "50000/50000 [==============================] - 4s 70us/step - loss: 0.0634 - acc: 0.9796 - val_loss: 4.0288 - val_acc: 0.5311\n",
      "Epoch 92/100\n",
      "50000/50000 [==============================] - 3s 70us/step - loss: 0.0780 - acc: 0.9752 - val_loss: 3.9211 - val_acc: 0.5238\n",
      "Epoch 93/100\n",
      "50000/50000 [==============================] - 4s 70us/step - loss: 0.0798 - acc: 0.9746 - val_loss: 3.8782 - val_acc: 0.5245\n",
      "Epoch 94/100\n",
      "50000/50000 [==============================] - 4s 70us/step - loss: 0.0650 - acc: 0.9791 - val_loss: 3.9281 - val_acc: 0.5351\n",
      "Epoch 95/100\n",
      "50000/50000 [==============================] - 3s 70us/step - loss: 0.0536 - acc: 0.9833 - val_loss: 3.9866 - val_acc: 0.5287\n",
      "Epoch 96/100\n",
      "50000/50000 [==============================] - 4s 71us/step - loss: 0.0817 - acc: 0.9745 - val_loss: 3.8056 - val_acc: 0.5385\n",
      "Epoch 97/100\n",
      "50000/50000 [==============================] - 4s 70us/step - loss: 0.0568 - acc: 0.9818 - val_loss: 3.9782 - val_acc: 0.5293\n",
      "Epoch 98/100\n",
      "50000/50000 [==============================] - 4s 70us/step - loss: 0.0719 - acc: 0.9772 - val_loss: 3.9653 - val_acc: 0.5321\n",
      "Epoch 99/100\n",
      "50000/50000 [==============================] - 3s 70us/step - loss: 0.0738 - acc: 0.9775 - val_loss: 3.9053 - val_acc: 0.5356\n",
      "Epoch 100/100\n",
      "50000/50000 [==============================] - 4s 70us/step - loss: 0.0556 - acc: 0.9819 - val_loss: 3.9541 - val_acc: 0.5333\n"
     ]
    },
    {
     "data": {
      "text/plain": [
       "<keras.callbacks.History at 0x26fcdb13ef0>"
      ]
     },
     "execution_count": 18,
     "metadata": {},
     "output_type": "execute_result"
    }
   ],
   "source": [
    "model.fit(x_train, y_train, \n",
    "          epochs=EPOCHS, \n",
    "          batch_size=BATCH_SIZE, \n",
    "          validation_data=(x_test, y_test), \n",
    "          shuffle=True)"
   ]
  },
  {
   "cell_type": "code",
   "execution_count": 20,
   "metadata": {},
   "outputs": [
    {
     "data": {
      "image/png": "[encoded data removed]",
      "text/plain": [
       "<Figure size 432x288 with 1 Axes>"
      ]
     },
     "metadata": {},
     "output_type": "display_data"
    },
    {
     "data": {
      "image/png": "[encoded data removed]",
      "text/plain": [
       "<Figure size 432x288 with 1 Axes>"
      ]
     },
     "metadata": {},
     "output_type": "display_data"
    }
   ],
   "source": [
    "import matplotlib.pyplot as plt\n",
    "\n",
    "\n",
    "train_loss = model.history.history[\"loss\"]\n",
    "valid_loss = model.history.history[\"val_loss\"]\n",
    "\n",
    "train_acc = model.history.history[\"acc\"]\n",
    "valid_acc = model.history.history[\"val_acc\"]\n",
    "\n",
    "plt.plot(range(len(train_loss)), train_loss, label=\"train loss\")\n",
    "plt.plot(range(len(valid_loss)), valid_loss, label=\"valid loss\")\n",
    "plt.legend()\n",
    "plt.title(\"Loss\")\n",
    "plt.show()\n",
    "\n",
    "plt.plot(range(len(train_acc)), train_acc, label=\"train accuracy\")\n",
    "plt.plot(range(len(valid_acc)), valid_acc, label=\"valid accuracy\")\n",
    "plt.legend()\n",
    "plt.title(\"Accuracy\")\n",
    "plt.show()"
   ]
  },
  {
   "cell_type": "code",
   "execution_count": null,
   "metadata": {},
   "outputs": [],
   "source": []
  }
 ],
 "metadata": {
  "kernelspec": {
   "display_name": "Python 3",
   "language": "python",
   "name": "python3"
  },
  "language_info": {
   "codemirror_mode": {
    "name": "ipython",
    "version": 3
   },
   "file_extension": ".py",
   "mimetype": "text/x-python",
   "name": "python",
   "nbconvert_exporter": "python",
   "pygments_lexer": "ipython3",
   "version": "3.6.4"
  }
 },
 "nbformat": 4,
 "nbformat_minor": 2
}
